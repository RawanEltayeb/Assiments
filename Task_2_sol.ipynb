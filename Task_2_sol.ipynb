{
 "cells": [
  {
   "cell_type": "code",
   "execution_count": 54,
   "metadata": {},
   "outputs": [],
   "source": [
    "#1\n",
    "class Rectangle:\n",
    "    l=''\n",
    "    w=''\n",
    "    \n",
    "       #def set_l(self,l):\n",
    "        #self.length=l\n",
    "        \n",
    "        #def set_w(self,w):\n",
    "        #self.width=w\n",
    "        \n",
    "    def rect_area(self):\n",
    "        return 'Area of rectangle equals',self.l*self.w\n",
    "    \n",
    "    def rect_peri(self):\n",
    "        return 'Perimeter of rectangle equals',2*(self.l+self.w)\n",
    "    \n",
    "    def display(self):\n",
    "        return self.l,self.w,self.l*self.w,2*(self.l+self.w)\n",
    "        "
   ]
  },
  {
   "cell_type": "code",
   "execution_count": 55,
   "metadata": {},
   "outputs": [],
   "source": [
    "r=Rectangle()"
   ]
  },
  {
   "cell_type": "code",
   "execution_count": 56,
   "metadata": {},
   "outputs": [],
   "source": [
    "r.l=4"
   ]
  },
  {
   "cell_type": "code",
   "execution_count": 57,
   "metadata": {},
   "outputs": [],
   "source": [
    "r.w=5"
   ]
  },
  {
   "cell_type": "code",
   "execution_count": 58,
   "metadata": {},
   "outputs": [
    {
     "data": {
      "text/plain": [
       "('Area of rectangle equals', 20)"
      ]
     },
     "execution_count": 58,
     "metadata": {},
     "output_type": "execute_result"
    }
   ],
   "source": [
    "r.rect_area()"
   ]
  },
  {
   "cell_type": "code",
   "execution_count": 59,
   "metadata": {},
   "outputs": [
    {
     "data": {
      "text/plain": [
       "('Perimeter of rectangle equals', 18)"
      ]
     },
     "execution_count": 59,
     "metadata": {},
     "output_type": "execute_result"
    }
   ],
   "source": [
    "r.rect_peri()"
   ]
  },
  {
   "cell_type": "code",
   "execution_count": 60,
   "metadata": {},
   "outputs": [
    {
     "data": {
      "text/plain": [
       "(4, 5, 20, 18)"
      ]
     },
     "execution_count": 60,
     "metadata": {},
     "output_type": "execute_result"
    }
   ],
   "source": [
    "r.display()"
   ]
  },
  {
   "cell_type": "code",
   "execution_count": 74,
   "metadata": {},
   "outputs": [],
   "source": [
    "#??????????????????????\n",
    "class Parallelepiped(Rectangle):\n",
    "    ht=''\n",
    "    \n",
    "    def __init__(self,l,w):\n",
    "        super().__init__(l,w)\n",
    "    \n",
    "        \n",
    "        def volume(self):\n",
    "            return self.rect_area()*self.ht\n"
   ]
  },
  {
   "cell_type": "code",
   "execution_count": 75,
   "metadata": {},
   "outputs": [
    {
     "ename": "TypeError",
     "evalue": "__init__() missing 2 required positional arguments: 'l' and 'w'",
     "output_type": "error",
     "traceback": [
      "\u001b[1;31m---------------------------------------------------------------------------\u001b[0m",
      "\u001b[1;31mTypeError\u001b[0m                                 Traceback (most recent call last)",
      "\u001b[1;32m<ipython-input-75-1c92f4ce089f>\u001b[0m in \u001b[0;36m<module>\u001b[1;34m\u001b[0m\n\u001b[1;32m----> 1\u001b[1;33m \u001b[0mp\u001b[0m\u001b[1;33m=\u001b[0m\u001b[0mParallelepiped\u001b[0m\u001b[1;33m(\u001b[0m\u001b[1;33m)\u001b[0m\u001b[1;33m\u001b[0m\u001b[1;33m\u001b[0m\u001b[0m\n\u001b[0m",
      "\u001b[1;31mTypeError\u001b[0m: __init__() missing 2 required positional arguments: 'l' and 'w'"
     ]
    }
   ],
   "source": [
    "#?????????\n",
    "p=Parallelepiped()"
   ]
  },
  {
   "cell_type": "code",
   "execution_count": 1,
   "metadata": {},
   "outputs": [],
   "source": [
    "#2\n",
    "class Person:\n",
    "    name=''\n",
    "    age=''\n",
    "    \n",
    "    \n",
    "    def display(self):\n",
    "        return self.name,self.age"
   ]
  },
  {
   "cell_type": "code",
   "execution_count": 2,
   "metadata": {},
   "outputs": [],
   "source": [
    "p=Person()"
   ]
  },
  {
   "cell_type": "code",
   "execution_count": 3,
   "metadata": {},
   "outputs": [],
   "source": [
    "p.name='ahmed'"
   ]
  },
  {
   "cell_type": "code",
   "execution_count": 4,
   "metadata": {},
   "outputs": [],
   "source": [
    "p.age=15"
   ]
  },
  {
   "cell_type": "code",
   "execution_count": 5,
   "metadata": {},
   "outputs": [
    {
     "data": {
      "text/plain": [
       "('ahmed', 15)"
      ]
     },
     "execution_count": 5,
     "metadata": {},
     "output_type": "execute_result"
    }
   ],
   "source": [
    "p.display()"
   ]
  },
  {
   "cell_type": "code",
   "execution_count": 20,
   "metadata": {},
   "outputs": [],
   "source": [
    "class Student(Person):\n",
    "    sec=''\n",
    "    def __init(self,n,g):\n",
    "        super().__init__(n,g)\n",
    "    \n",
    "    def displayStudent(self):\n",
    "        return self.name,self.age,self.sec"
   ]
  },
  {
   "cell_type": "code",
   "execution_count": 21,
   "metadata": {},
   "outputs": [],
   "source": [
    "s=Student()"
   ]
  },
  {
   "cell_type": "code",
   "execution_count": 22,
   "metadata": {},
   "outputs": [],
   "source": [
    "s.name='ali'"
   ]
  },
  {
   "cell_type": "code",
   "execution_count": 23,
   "metadata": {},
   "outputs": [],
   "source": [
    "s.age=20"
   ]
  },
  {
   "cell_type": "code",
   "execution_count": 24,
   "metadata": {},
   "outputs": [],
   "source": [
    "s.sec='english'"
   ]
  },
  {
   "cell_type": "code",
   "execution_count": 25,
   "metadata": {},
   "outputs": [
    {
     "data": {
      "text/plain": [
       "('ali', 20, 'english')"
      ]
     },
     "execution_count": 25,
     "metadata": {},
     "output_type": "execute_result"
    }
   ],
   "source": [
    "s.displayStudent()"
   ]
  },
  {
   "cell_type": "code",
   "execution_count": null,
   "metadata": {},
   "outputs": [],
   "source": [
    "#3\n",
    "class Computation:\n",
    "   def __init__(self,a,b):\n",
    "    \n",
    "        self.a=a\n",
    "        self.b=b\n",
    "        \n",
    "    def factorial(self):\n",
    "        if num < 0:\n",
    "            print(\"Sorry, factorial does not exist for negative numbers\")\n",
    "        elif num == 0:\n",
    "            print(\"The factorial of 0 is 1\")\n",
    "        else:\n",
    "            for i in range(1,num + 1):\n",
    "                factorial = factorial*i\n",
    "        print(\"The factorial of\",num,\"is\",factorial)\n",
    "        \n",
    "    def summ(self):\n",
    "        return self.a+self.b\n",
    "    \n",
    "    def testPrim(self):\n",
    "        \n",
    "    \n",
    "    def testPrimS(self):\n",
    "        \n",
    "    \n",
    "\n",
    "            "
   ]
  },
  {
   "cell_type": "code",
   "execution_count": null,
   "metadata": {},
   "outputs": [],
   "source": []
  },
  {
   "cell_type": "code",
   "execution_count": 88,
   "metadata": {},
   "outputs": [
    {
     "name": "stdout",
     "output_type": "stream",
     "text": [
      "Lenght of LCS is:  5\n"
     ]
    }
   ],
   "source": [
    "#4\n",
    "def lcs(pattern_1, pattern_2, len_1, len_2):\n",
    "    \n",
    "    if len_1 == 0 or len_2 == 0:\n",
    "        return 0\n",
    "\n",
    "    if pattern_1[len_1 - 1] == pattern_2[len_2 - 1]:\n",
    "    \n",
    "        return 1 + lcs(pattern_1, pattern_2, len_1 - 1, len_2 - 1)\n",
    "\n",
    "    else :\n",
    "    \n",
    "        return max(lcs(pattern_1, pattern_2, len_1 - 1, len_2), lcs(pattern_1, pattern_2, len_1, len_2 - 1))\n",
    "\n",
    "pattern_1 = \"RGBGARGA\"\n",
    "pattern_2 = \"BGRARG\"\n",
    "print(\"Lenght of LCS is: \", lcs(pattern_1, pattern_2, len(pattern_1), len(pattern_2)))"
   ]
  },
  {
   "cell_type": "code",
   "execution_count": null,
   "metadata": {},
   "outputs": [],
   "source": []
  }
 ],
 "metadata": {
  "kernelspec": {
   "display_name": "Python 3",
   "language": "python",
   "name": "python3"
  },
  "language_info": {
   "codemirror_mode": {
    "name": "ipython",
    "version": 3
   },
   "file_extension": ".py",
   "mimetype": "text/x-python",
   "name": "python",
   "nbconvert_exporter": "python",
   "pygments_lexer": "ipython3",
   "version": "3.8.5"
  }
 },
 "nbformat": 4,
 "nbformat_minor": 4
}
